{
 "cells": [
  {
   "cell_type": "code",
   "execution_count": 168,
   "metadata": {
    "collapsed": true
   },
   "outputs": [],
   "source": [
    "import numpy as np\n",
    "import matplotlib\n",
    "import matplotlib.pyplot as plt\n",
    "%matplotlib inline\n",
    "\n",
    "#plt.rcParams['figure.figsize'] = (14, 6)"
   ]
  },
  {
   "cell_type": "code",
   "execution_count": 169,
   "metadata": {
    "collapsed": true
   },
   "outputs": [],
   "source": [
    "def to_col(x):   \n",
    "    if len(x.shape)==1:\n",
    "        x=x.reshape(x.shape[0],1)\n",
    "    return x\n",
    "\n",
    "def to_line(x):\n",
    "    \"\"\" convert an vector to line vector if needed \"\"\"\n",
    "    if len(x.shape)==1:\n",
    "        x=x.reshape(1,x.shape[0])\n",
    "    return x\n",
    "\n",
    "def plot_data(data,labels=None):\n",
    "    \"\"\"\n",
    "    Affiche des donnees 2D\n",
    "    :param data: matrice des donnees 2d\n",
    "    :param labels: vecteur des labels (discrets)\n",
    "    :return:\n",
    "    \"\"\"\n",
    "    cols,marks = [\"red\", \"green\", \"blue\", \"orange\", \"black\", \"cyan\"],[\".\",\"+\",\"*\",\"o\",\"x\",\"^\"]\n",
    "    if labels is None:\n",
    "        plt.scatter(data[:,0],data[:,1],marker=\"x\")\n",
    "        return\n",
    "    for i,l in enumerate(sorted(list(set(labels.flatten())))):\n",
    "        plt.scatter(data[labels==l,0],data[labels==l,1],c=cols[i],marker=marks[i])\n",
    "        \n",
    "\n",
    "def make_grid(data=None,xmin=-5,xmax=5,ymin=-5,ymax=5,step=20):\n",
    "    \"\"\" Cree une grille sous forme de matrice 2d de la liste des points\n",
    "    :param data: pour calcluler les bornes du graphe\n",
    "    :param xmin: si pas data, alors bornes du graphe\n",
    "    :param xmax:\n",
    "    :param ymin:\n",
    "    :param ymax:\n",
    "    :param step: pas de la grille\n",
    "    :return: une matrice 2d contenant les points de la grille\n",
    "    \"\"\"\n",
    "    if data is not None:\n",
    "        xmax, xmin, ymax, ymin = np.max(data[:,0]),  np.min(data[:,0]), np.max(data[:,1]), np.min(data[:,1])\n",
    "    x, y =np.meshgrid(np.arange(xmin,xmax,(xmax-xmin)*1./step), np.arange(ymin,ymax,(ymax-ymin)*1./step))\n",
    "    grid=np.c_[x.ravel(),y.ravel()]\n",
    "    return grid, x, y\n",
    "\n",
    "\n",
    "def plot_frontiere(data,f,step=20):\n",
    "    \"\"\" Trace un graphe de la frontiere de decision de f\n",
    "    :param data: donnees\n",
    "    :param f: fonction de decision\n",
    "    :param step: pas de la grille\n",
    "    :return:\n",
    "    \"\"\"\n",
    "    grid,x,y=make_grid(data=data,step=step)\n",
    "    plt.contourf(x,y,f(grid).reshape(x.shape),colors=('gray','blue'),levels=[-1,0,1])"
   ]
  },
  {
   "cell_type": "markdown",
   "metadata": {},
   "source": [
    "## Chargement des données"
   ]
  },
  {
   "cell_type": "code",
   "execution_count": 225,
   "metadata": {
    "collapsed": false
   },
   "outputs": [],
   "source": [
    "A_train = np.loadtxt('classification_data_HWK1/classificationA.train')\n",
    "B_train = np.loadtxt('classification_data_HWK1/classificationB.train')\n",
    "C_train = np.loadtxt('classification_data_HWK1/classificationC.train')\n",
    "\n",
    "A_test = np.loadtxt('classification_data_HWK1/classificationA.test')\n",
    "B_test = np.loadtxt('classification_data_HWK1/classificationB.test')\n",
    "C_test = np.loadtxt('classification_data_HWK1/classificationC.test')"
   ]
  },
  {
   "cell_type": "code",
   "execution_count": 227,
   "metadata": {
    "collapsed": false
   },
   "outputs": [],
   "source": [
    "X_A_train = A_train[:,0:2]\n",
    "Y_A_train = to_col(A_train[:,2])\n",
    "#X_A_train,Y_A_train\n",
    "\n",
    "X_B_train = B_train[:,0:2]\n",
    "Y_B_train = to_col(B_train[:,2])\n",
    "#X_B_train,Y_B_train\n",
    "\n",
    "X_C_train = C_train[:,0:2]\n",
    "Y_C_train = to_col(C_train[:,2])\n",
    "#X_C_train,Y_C_train\n",
    "\n",
    "X_A_test = A_test[:,0:2]\n",
    "Y_A_test = to_col(A_test[:,2])\n",
    "#X_A_test,Y_A_test\n",
    "\n",
    "X_B_test = B_test[:,0:2]\n",
    "Y_B_test = to_col(B_test[:,2])\n",
    "#X_B_test,Y_B_test\n",
    "\n",
    "X_C_test = C_test[:,0:2]\n",
    "Y_C_test = to_col(C_test[:,2])\n",
    "#X_C_test,Y_C_test"
   ]
  },
  {
   "cell_type": "markdown",
   "metadata": {},
   "source": [
    "plt.rcParams['figure.figsize'] = (14, 6)\n",
    "\n",
    "fig, axes = plt.subplots(2, 3)\n",
    "green, = axes[0][0].plot([a[0] for a in A_train if a[2]==1],[a[1] for a in A_train if a[2]==1],'go')\n",
    "blue, = axes[0][0].plot([a[0] for a in A_train if a[2]==0],[a[1] for a in A_train if a[2]==0],'bo')\n",
    "\n",
    "axes[0][1].plot([b[0] for b in B_train if b[2]==1],[b[1] for b in B_train if b[2]==1],'go')\n",
    "axes[0][1].plot([b[0] for b in B_train if b[2]==0],[b[1] for b in B_train if b[2]==0],'bo')\n",
    "\n",
    "axes[0][2].plot([c[0] for c in C_train if c[2]==1],[c[1] for c in C_train if c[2]==1],'go')\n",
    "axes[0][2].plot([c[0] for c in C_train if c[2]==0],[c[1] for c in C_train if c[2]==0],'bo')\n",
    "\n",
    "axes[1][0].plot([a[0] for a in A_test if a[2]==1],[a[1] for a in A_test if a[2]==1],'go')\n",
    "axes[1][0].plot([a[0] for a in A_test if a[2]==0],[a[1] for a in A_test if a[2]==0],'bo')\n",
    "\n",
    "axes[1][1].plot([b[0] for b in B_test if b[2]==1],[b[1] for b in B_test if b[2]==1],'go')\n",
    "axes[1][1].plot([b[0] for b in B_test if b[2]==0],[b[1] for b in B_test if b[2]==0],'bo')\n",
    "\n",
    "axes[1][2].plot([c[0] for c in C_test if c[2]==1],[c[1] for c in C_test if c[2]==1],'go')\n",
    "axes[1][2].plot([c[0] for c in C_test if c[2]==0],[c[1] for c in C_test if c[2]==0],'bo')\n",
    "\n",
    "axes[0][0].set_title(\"A\",fontsize=\"40\")\n",
    "axes[0][1].set_title(\"B\",fontsize=\"40\")\n",
    "axes[0][2].set_title(\"C\",fontsize=\"40\")\n",
    "axes[0][0].set_ylabel(\"Train\",fontsize=\"40\")\n",
    "axes[1][0].set_ylabel(\"Test\",fontsize=\"40\")\n",
    "fig.legend((green,blue),('1', '0'),'center right',numpoints = 1)\n",
    "\n",
    "plt.show()"
   ]
  },
  {
   "cell_type": "markdown",
   "metadata": {},
   "source": [
    "## 2. MLE Generative model (LDA)"
   ]
  },
  {
   "cell_type": "code",
   "execution_count": 228,
   "metadata": {
    "collapsed": true
   },
   "outputs": [],
   "source": [
    "def theta_MLE(Y):\n",
    "    return(np.sum(Y)/Y.shape[0])\n",
    "\n",
    "def mu_1_MLE(X,Y):\n",
    "    return([np.sum(Y*to_col(X[:,0]))/np.sum(Y), np.sum(Y*to_col(X[:,1]))/np.sum(Y)])\n",
    "\n",
    "def mu_0_MLE(X,Y): \n",
    "    return([(np.sum(X[:,0]) - np.sum(Y*to_col(X[:,0])))/(Y.shape[0]-np.sum(Y)), \n",
    "            (np.sum(X[:,1]) - np.sum(Y*to_col(X[:,1])))/(Y.shape[0]-np.sum(Y))])\n",
    "\n",
    "def sigma_MLE(X,Y): \n",
    "    s1 = np.dot(np.transpose(Y)*np.transpose(X-mu_1_MLE(X,Y)),(X-mu_1_MLE(X,Y)))\n",
    "    s0 = np.dot((np.ones(Y.shape[0])-np.transpose(Y))*np.transpose(X-mu_0_MLE(X,Y)),(X-mu_0_MLE(X,Y)))\n",
    "    return((s1+s0)/Y.shape[0])\n",
    "\n",
    "def sigmoid(X):  #fonction sigmoide pour la proba conditionnelle\n",
    "    return (1/(1+np.exp(-X)))\n",
    "\n",
    "def a_sigmoid(X,Y):\n",
    "    return(np.dot(np.linalg.inv(sigma_MLE(X,Y)),np.asarray(mu_1_MLE(X,Y))-np.asarray(mu_0_MLE(X,Y))))\n",
    "\n",
    "def b_sigmoid(X,Y):\n",
    "    return(np.log(theta_MLE(Y)/(1-theta_MLE(Y))) \n",
    "           -1/2*np.dot(np.dot((np.asarray(mu_1_MLE(X,Y))-np.asarray(mu_0_MLE(X,Y))),np.linalg.inv(sigma_MLE(X,Y)))\n",
    "                ,(np.asarray(mu_0_MLE(X,Y))+np.asarray(mu_1_MLE(X,Y)))))\n",
    "\n",
    "def LDA(x):\n",
    "    return(sigmoid(np.transpose(a_sigmoid)*x+b_sigmoid))"
   ]
  },
  {
   "cell_type": "markdown",
   "metadata": {},
   "source": [
    "#### Sample A"
   ]
  },
  {
   "cell_type": "code",
   "execution_count": 229,
   "metadata": {
    "collapsed": false
   },
   "outputs": [
    {
     "name": "stdout",
     "output_type": "stream",
     "text": [
      "theta = 0.333333333333\n",
      "mu_1 = [-2.6923200424000004, 0.86604199999999987]\n",
      "mu_0 = [2.8997094650999999, -0.89387399999999984]\n",
      "sigma = [[ 2.44190897 -1.13194024]\n",
      " [-1.13194024  0.61375465]]\n",
      "a = [-6.62245258 -9.3462503 ]\n",
      "b = -0.136496290948\n"
     ]
    }
   ],
   "source": [
    "print(\"theta =\",theta_MLE(Y_A_train))\n",
    "print(\"mu_1 =\",mu_1_MLE(X_A_train,Y_A_train))\n",
    "print(\"mu_0 =\",mu_0_MLE(X_A_train,Y_A_train))\n",
    "print(\"sigma =\",sigma_MLE(X_A_train,Y_A_train))\n",
    "print(\"a =\", a_sigmoid(X_A_train,Y_A_train))\n",
    "print(\"b =\", b_sigmoid(X_A_train,Y_A_train))"
   ]
  },
  {
   "cell_type": "code",
   "execution_count": 232,
   "metadata": {
    "collapsed": true
   },
   "outputs": [
    {
     "ename": "TypeError",
     "evalue": "'numpy.ndarray' object is not callable",
     "output_type": "error",
     "traceback": [
      "\u001b[0;31m---------------------------------------------------------------------------\u001b[0m",
      "\u001b[0;31mTypeError\u001b[0m                                 Traceback (most recent call last)",
      "\u001b[0;32m<ipython-input-232-79f70e42b684>\u001b[0m in \u001b[0;36m<module>\u001b[0;34m()\u001b[0m\n\u001b[0;32m----> 1\u001b[0;31m \u001b[0ma_sigmoid\u001b[0m\u001b[0;34m=\u001b[0m\u001b[0ma_sigmoid\u001b[0m\u001b[0;34m(\u001b[0m\u001b[0mX_A_test\u001b[0m\u001b[0;34m,\u001b[0m\u001b[0mY_A_test\u001b[0m\u001b[0;34m)\u001b[0m\u001b[0;34m\u001b[0m\u001b[0m\n\u001b[0m\u001b[1;32m      2\u001b[0m \u001b[0mb_sigmoid\u001b[0m\u001b[0;34m=\u001b[0m\u001b[0mb_sigmoid\u001b[0m\u001b[0;34m(\u001b[0m\u001b[0mX_A_test\u001b[0m\u001b[0;34m,\u001b[0m\u001b[0mY_A_test\u001b[0m\u001b[0;34m)\u001b[0m\u001b[0;34m\u001b[0m\u001b[0m\n\u001b[1;32m      3\u001b[0m \u001b[0mLDA\u001b[0m\u001b[0;34m(\u001b[0m\u001b[0mX_A_test\u001b[0m\u001b[0;34m)\u001b[0m\u001b[0;34m\u001b[0m\u001b[0m\n",
      "\u001b[0;31mTypeError\u001b[0m: 'numpy.ndarray' object is not callable"
     ]
    }
   ],
   "source": [
    "a_sigmoid=a_sigmoid(X_A_test,Y_A_test)\n",
    "b_sigmoid=b_sigmoid(X_A_test,Y_A_test)\n",
    "LDA(X_A_test)"
   ]
  },
  {
   "cell_type": "code",
   "execution_count": 231,
   "metadata": {
    "collapsed": true
   },
   "outputs": [
    {
     "ename": "ValueError",
     "evalue": "total size of new array must be unchanged",
     "output_type": "error",
     "traceback": [
      "\u001b[0;31m---------------------------------------------------------------------------\u001b[0m",
      "\u001b[0;31mValueError\u001b[0m                                Traceback (most recent call last)",
      "\u001b[0;32m<ipython-input-231-ce27deb4b438>\u001b[0m in \u001b[0;36m<module>\u001b[0;34m()\u001b[0m\n\u001b[1;32m      1\u001b[0m \u001b[0mplt\u001b[0m\u001b[0;34m.\u001b[0m\u001b[0mfigure\u001b[0m\u001b[0;34m(\u001b[0m\u001b[0;34m)\u001b[0m\u001b[0;34m\u001b[0m\u001b[0m\n\u001b[1;32m      2\u001b[0m \u001b[0;31m#y = Y_test_A.reshape(Y_test_A.shape[0],)\u001b[0m\u001b[0;34m\u001b[0m\u001b[0;34m\u001b[0m\u001b[0m\n\u001b[0;32m----> 3\u001b[0;31m \u001b[0mplot_frontiere\u001b[0m\u001b[0;34m(\u001b[0m\u001b[0mX_A_test\u001b[0m\u001b[0;34m,\u001b[0m\u001b[0mLDA\u001b[0m\u001b[0;34m,\u001b[0m\u001b[0;36m100\u001b[0m\u001b[0;34m)\u001b[0m\u001b[0;34m\u001b[0m\u001b[0m\n\u001b[0m\u001b[1;32m      4\u001b[0m \u001b[0mplot_data\u001b[0m\u001b[0;34m(\u001b[0m\u001b[0mX_A_test\u001b[0m\u001b[0;34m,\u001b[0m\u001b[0mY_A_test\u001b[0m\u001b[0;34m)\u001b[0m\u001b[0;34m\u001b[0m\u001b[0m\n\u001b[1;32m      5\u001b[0m \u001b[0;31m#plt.title(\"Classification of test set A by LDA\")\u001b[0m\u001b[0;34m\u001b[0m\u001b[0;34m\u001b[0m\u001b[0m\n",
      "\u001b[0;32m<ipython-input-169-ea2974903e69>\u001b[0m in \u001b[0;36mplot_frontiere\u001b[0;34m(data, f, step)\u001b[0m\n\u001b[1;32m     50\u001b[0m     \"\"\"\n\u001b[1;32m     51\u001b[0m     \u001b[0mgrid\u001b[0m\u001b[0;34m,\u001b[0m\u001b[0mx\u001b[0m\u001b[0;34m,\u001b[0m\u001b[0my\u001b[0m\u001b[0;34m=\u001b[0m\u001b[0mmake_grid\u001b[0m\u001b[0;34m(\u001b[0m\u001b[0mdata\u001b[0m\u001b[0;34m=\u001b[0m\u001b[0mdata\u001b[0m\u001b[0;34m,\u001b[0m\u001b[0mstep\u001b[0m\u001b[0;34m=\u001b[0m\u001b[0mstep\u001b[0m\u001b[0;34m)\u001b[0m\u001b[0;34m\u001b[0m\u001b[0m\n\u001b[0;32m---> 52\u001b[0;31m     \u001b[0mplt\u001b[0m\u001b[0;34m.\u001b[0m\u001b[0mcontourf\u001b[0m\u001b[0;34m(\u001b[0m\u001b[0mx\u001b[0m\u001b[0;34m,\u001b[0m\u001b[0my\u001b[0m\u001b[0;34m,\u001b[0m\u001b[0mf\u001b[0m\u001b[0;34m(\u001b[0m\u001b[0mgrid\u001b[0m\u001b[0;34m)\u001b[0m\u001b[0;34m.\u001b[0m\u001b[0mreshape\u001b[0m\u001b[0;34m(\u001b[0m\u001b[0mx\u001b[0m\u001b[0;34m.\u001b[0m\u001b[0mshape\u001b[0m\u001b[0;34m)\u001b[0m\u001b[0;34m,\u001b[0m\u001b[0mcolors\u001b[0m\u001b[0;34m=\u001b[0m\u001b[0;34m(\u001b[0m\u001b[0;34m'gray'\u001b[0m\u001b[0;34m,\u001b[0m\u001b[0;34m'blue'\u001b[0m\u001b[0;34m)\u001b[0m\u001b[0;34m,\u001b[0m\u001b[0mlevels\u001b[0m\u001b[0;34m=\u001b[0m\u001b[0;34m[\u001b[0m\u001b[0;34m-\u001b[0m\u001b[0;36m1\u001b[0m\u001b[0;34m,\u001b[0m\u001b[0;36m0\u001b[0m\u001b[0;34m,\u001b[0m\u001b[0;36m1\u001b[0m\u001b[0;34m]\u001b[0m\u001b[0;34m)\u001b[0m\u001b[0;34m\u001b[0m\u001b[0m\n\u001b[0m",
      "\u001b[0;31mValueError\u001b[0m: total size of new array must be unchanged"
     ]
    },
    {
     "data": {
      "text/plain": [
       "<matplotlib.figure.Figure at 0x10cd3ef98>"
      ]
     },
     "metadata": {},
     "output_type": "display_data"
    }
   ],
   "source": [
    "plt.figure()\n",
    "#y = Y_test_A.reshape(Y_test_A.shape[0],)\n",
    "plot_frontiere(X_A_test,LDA,50)\n",
    "plot_data(X_A_test,Y_A_test)\n",
    "#plt.title(\"Classification of test set A by LDA\")\n",
    "plt.show()"
   ]
  },
  {
   "cell_type": "code",
   "execution_count": 212,
   "metadata": {
    "collapsed": false
   },
   "outputs": [
    {
     "data": {
      "text/plain": [
       "array([[  1.00000000e+00,   3.59762903e-06],\n",
       "       [  1.00000000e+00,   5.77810165e-09],\n",
       "       [  9.99949872e-01,   7.65460108e-03],\n",
       "       [  9.99504855e-01,   2.40778432e-02],\n",
       "       [  2.66403973e-02,   9.97541787e-01],\n",
       "       [  6.90438999e-01,   9.98473809e-01],\n",
       "       [  1.00000000e+00,   4.12361314e-06],\n",
       "       [  9.99986101e-01,   9.74119058e-02],\n",
       "       [  9.99998677e-01,   2.21426182e-03],\n",
       "       [  9.99999988e-01,   2.07721762e-05],\n",
       "       [  1.00000000e+00,   5.25298512e-06],\n",
       "       [  9.99998596e-01,   1.08140572e-03],\n",
       "       [  1.00000000e+00,   1.11986105e-08],\n",
       "       [  9.99999989e-01,   4.23002381e-04],\n",
       "       [  1.00000000e+00,   3.14850186e-05],\n",
       "       [  5.04787657e-01,   8.24445773e-01],\n",
       "       [  1.00000000e+00,   1.33666754e-07],\n",
       "       [  1.00000000e+00,   1.01960077e-09],\n",
       "       [  1.00000000e+00,   3.15933823e-06],\n",
       "       [  1.00000000e+00,   3.43225009e-07],\n",
       "       [  9.99999987e-01,   1.42025016e-03],\n",
       "       [  1.00000000e+00,   1.92071521e-13],\n",
       "       [  9.99999018e-01,   7.08397423e-04],\n",
       "       [  9.93454685e-01,   7.14776203e-01],\n",
       "       [  1.00000000e+00,   4.26730977e-07],\n",
       "       [  9.99999970e-01,   1.96240876e-04],\n",
       "       [  1.00000000e+00,   1.54359149e-07],\n",
       "       [  9.99999463e-01,   8.83729879e-03],\n",
       "       [  9.99999941e-01,   2.00000125e-02],\n",
       "       [  9.99999970e-01,   1.82787599e-04],\n",
       "       [  9.99999975e-01,   8.50691348e-04],\n",
       "       [  9.99998879e-01,   1.78013892e-02],\n",
       "       [  1.00000000e+00,   1.48556061e-07],\n",
       "       [  9.99991310e-01,   2.82547069e-01],\n",
       "       [  1.00000000e+00,   4.57999113e-05],\n",
       "       [  9.99985476e-01,   1.51754510e-03],\n",
       "       [  1.00000000e+00,   1.08853733e-09],\n",
       "       [  9.99999421e-01,   8.58249834e-05],\n",
       "       [  3.65704317e-05,   9.99986624e-01],\n",
       "       [  9.99999999e-01,   1.01932269e-07],\n",
       "       [  1.00000000e+00,   2.19562207e-07],\n",
       "       [  1.00000000e+00,   2.75105073e-09],\n",
       "       [  9.99989091e-01,   4.49491060e-03],\n",
       "       [  9.99368726e-01,   5.70832011e-03],\n",
       "       [  9.99856834e-01,   4.37695380e-01],\n",
       "       [  9.99996308e-01,   3.05819969e-02],\n",
       "       [  9.99864814e-01,   7.33990047e-01],\n",
       "       [  9.99999958e-01,   1.61244159e-03],\n",
       "       [  9.97996992e-01,   7.66366434e-02],\n",
       "       [  9.99989617e-01,   5.25902376e-01],\n",
       "       [  9.58488319e-01,   5.40235556e-02],\n",
       "       [  2.16864136e-08,   9.96005840e-01],\n",
       "       [  5.59666003e-14,   9.99996455e-01],\n",
       "       [  1.81161629e-03,   6.30111512e-01],\n",
       "       [  1.44558802e-06,   1.61661717e-01],\n",
       "       [  3.28807295e-16,   9.99999996e-01],\n",
       "       [  1.13651669e-14,   9.99999995e-01],\n",
       "       [  4.51744223e-03,   7.85681414e-01],\n",
       "       [  3.25356827e-14,   9.99999993e-01],\n",
       "       [  1.88335306e-05,   4.34477654e-01],\n",
       "       [  1.03508936e-06,   9.84912221e-01],\n",
       "       [  2.69572464e-06,   9.95487961e-01],\n",
       "       [  2.11497452e-10,   9.91655409e-01],\n",
       "       [  2.34639050e-07,   9.98646922e-01],\n",
       "       [  5.49189355e-07,   9.94802781e-01],\n",
       "       [  2.79252198e-14,   9.99996035e-01],\n",
       "       [  1.69354582e-07,   9.99064222e-01],\n",
       "       [  4.53577204e-08,   9.93370334e-01],\n",
       "       [  1.46050300e-11,   9.99997468e-01],\n",
       "       [  1.38559618e-14,   9.99999993e-01],\n",
       "       [  8.75926443e-16,   9.99999852e-01],\n",
       "       [  9.93388148e-01,   6.76270608e-08],\n",
       "       [  2.00972071e-03,   6.36189820e-01],\n",
       "       [  1.79562032e-12,   9.99999739e-01],\n",
       "       [  4.94897408e-02,   5.39628016e-01],\n",
       "       [  1.50314850e-04,   8.29791229e-01],\n",
       "       [  4.35422962e-04,   8.98308507e-01],\n",
       "       [  1.65601611e-11,   9.99203818e-01],\n",
       "       [  1.16801864e-14,   9.99999971e-01],\n",
       "       [  2.28446269e-13,   9.99998055e-01],\n",
       "       [  2.68101864e-16,   9.99999995e-01],\n",
       "       [  7.91605356e-10,   9.99835362e-01],\n",
       "       [  2.06734093e-13,   9.99970229e-01],\n",
       "       [  3.85843805e-10,   9.99993226e-01],\n",
       "       [  2.33069421e-12,   9.99998627e-01],\n",
       "       [  6.13306376e-07,   9.99367842e-01],\n",
       "       [  4.01419316e-15,   9.99999989e-01],\n",
       "       [  9.94927933e-15,   9.99999997e-01],\n",
       "       [  9.83336009e-08,   9.99573789e-01],\n",
       "       [  1.47980286e-09,   9.99839614e-01],\n",
       "       [  3.02570112e-13,   9.99999914e-01],\n",
       "       [  2.00734042e-11,   9.99999804e-01],\n",
       "       [  4.63360463e-08,   9.99958787e-01],\n",
       "       [  2.20145559e-05,   9.94086039e-01],\n",
       "       [  8.83136628e-16,   9.99999984e-01],\n",
       "       [  2.12036618e-17,   9.99999997e-01],\n",
       "       [  2.52673818e-04,   7.06124891e-01],\n",
       "       [  4.51566049e-04,   9.87851232e-01],\n",
       "       [  1.24500516e-06,   9.78478947e-01],\n",
       "       [  1.40029771e-07,   9.99705596e-01],\n",
       "       [  1.33926554e-09,   9.94903278e-01],\n",
       "       [  5.73138014e-11,   9.99982145e-01],\n",
       "       [  9.27776376e-14,   1.00000000e+00],\n",
       "       [  5.85666722e-08,   9.74934679e-01],\n",
       "       [  6.63159035e-04,   4.37005416e-01],\n",
       "       [  1.14185568e-11,   9.99997876e-01],\n",
       "       [  8.33991891e-14,   9.99999840e-01],\n",
       "       [  2.81228366e-09,   9.71140119e-01],\n",
       "       [  8.41635164e-15,   9.99996799e-01],\n",
       "       [  1.50070561e-11,   9.99995451e-01],\n",
       "       [  1.38314899e-08,   9.67473970e-01],\n",
       "       [  5.81690776e-07,   9.77140917e-01],\n",
       "       [  1.41788895e-07,   9.97054545e-01],\n",
       "       [  2.87603619e-04,   9.54564753e-01],\n",
       "       [  7.55150014e-19,   1.00000000e+00],\n",
       "       [  1.04184844e-11,   9.99999945e-01],\n",
       "       [  1.20782657e-06,   9.79924967e-01],\n",
       "       [  6.74765428e-06,   9.80929128e-01],\n",
       "       [  6.19411068e-14,   9.99999979e-01],\n",
       "       [  5.31243957e-09,   9.99566562e-01],\n",
       "       [  3.59114556e-13,   9.99998743e-01],\n",
       "       [  3.54828089e-17,   9.99999994e-01],\n",
       "       [  6.39049941e-09,   9.99997824e-01],\n",
       "       [  2.52887764e-06,   1.63059906e-01],\n",
       "       [  1.39001764e-08,   9.97054545e-01],\n",
       "       [  4.03503855e-06,   9.94550435e-01],\n",
       "       [  5.44725600e-07,   9.99559211e-01],\n",
       "       [  9.99994717e-01,   7.88278426e-05],\n",
       "       [  1.46305375e-10,   9.96002120e-01],\n",
       "       [  1.47649076e-05,   9.99083250e-01],\n",
       "       [  2.36894299e-06,   9.68630065e-01],\n",
       "       [  9.94618895e-08,   9.60943974e-01],\n",
       "       [  2.60527606e-09,   9.97060029e-01],\n",
       "       [  1.11185580e-08,   9.94232560e-01],\n",
       "       [  6.97402340e-07,   9.22760148e-01],\n",
       "       [  2.25469147e-08,   9.99969440e-01],\n",
       "       [  1.78676145e-09,   9.99961216e-01],\n",
       "       [  6.43143666e-08,   8.67552524e-01],\n",
       "       [  1.57034836e-11,   9.99995304e-01],\n",
       "       [  2.84096423e-07,   3.07017619e-01],\n",
       "       [  6.47214179e-08,   9.99992922e-01],\n",
       "       [  8.14315917e-06,   7.81561188e-01],\n",
       "       [  2.62880930e-01,   3.25608748e-01],\n",
       "       [  3.36833183e-09,   9.99925255e-01],\n",
       "       [  6.70942708e-07,   9.35130797e-01],\n",
       "       [  2.03243305e-09,   9.99999946e-01],\n",
       "       [  4.89090786e-05,   9.96574693e-01],\n",
       "       [  3.36249047e-16,   9.99999982e-01],\n",
       "       [  1.93924054e-12,   9.99990283e-01],\n",
       "       [  8.25453709e-06,   5.83775867e-01]])"
      ]
     },
     "execution_count": 212,
     "metadata": {},
     "output_type": "execute_result"
    }
   ],
   "source": [
    "sigmoid(np.dot(X_A_train,a_sigmoid(X_A_train,Y_A_train))+b_sigmoid(X_A_train,Y_A_train))\n",
    "np.dot(X_A_train,a_sigmoid(X_A_train,Y_A_train))\n",
    "sigmoid(X_A_train*a_sigmoid(X_A_train,Y_A_train)+b_sigmoid(X_A_train,Y_A_train))"
   ]
  },
  {
   "cell_type": "markdown",
   "metadata": {},
   "source": [
    "#### Sample B"
   ]
  },
  {
   "cell_type": "code",
   "execution_count": 184,
   "metadata": {
    "collapsed": false
   },
   "outputs": [
    {
     "name": "stdout",
     "output_type": "stream",
     "text": [
      "theta = 0.5\n",
      "mu_1 = [-3.2167073426666666, 1.0830673333333334]\n",
      "mu_0 = [3.340688964066667, -0.83546333333333334]\n",
      "sigma = [[ 3.34623467 -0.13516489]\n",
      " [-0.13516489  1.73807475]]\n",
      "a = [-1.92108197  0.95442836]\n",
      "b = 0.000929288716542\n"
     ]
    }
   ],
   "source": [
    "print(\"theta =\",theta_MLE(Y_B_train))\n",
    "print(\"mu_1 =\",mu_1_MLE(X_B_train,Y_B_train))\n",
    "print(\"mu_0 =\",mu_0_MLE(X_B_train,Y_B_train))\n",
    "print(\"sigma =\",sigma_MLE(X_B_train,Y_B_train))\n",
    "print(\"a =\", a_sigmoid(X_B_train,Y_B_train))\n",
    "print(\"b =\", b_sigmoid(X_B_train,Y_B_train))"
   ]
  },
  {
   "cell_type": "markdown",
   "metadata": {},
   "source": [
    "#### Sample C"
   ]
  },
  {
   "cell_type": "code",
   "execution_count": 185,
   "metadata": {
    "collapsed": false
   },
   "outputs": [
    {
     "name": "stdout",
     "output_type": "stream",
     "text": [
      "theta = 0.625\n",
      "mu_1 = [-2.9423288508400001, -0.95782840000000014]\n",
      "mu_0 = [2.7930482376000003, -0.8383866666666665]\n",
      "sigma = [[ 2.88039225 -0.63405081]\n",
      " [-0.63405081  5.19952435]]\n",
      "a = [-2.05129911 -0.27311529]\n",
      "b = 0.112429132177\n"
     ]
    }
   ],
   "source": [
    "print(\"theta =\",theta_MLE(Y_C_train))\n",
    "print(\"mu_1 =\",mu_1_MLE(X_C_train,Y_C_train))\n",
    "print(\"mu_0 =\",mu_0_MLE(X_C_train,Y_C_train))\n",
    "print(\"sigma =\",sigma_MLE(X_C_train,Y_C_train))\n",
    "print(\"a =\", a_sigmoid(X_C_train,Y_C_train))\n",
    "print(\"b =\", b_sigmoid(X_C_train,Y_C_train))"
   ]
  },
  {
   "cell_type": "markdown",
   "metadata": {},
   "source": [
    "## 5. QDA model"
   ]
  },
  {
   "cell_type": "code",
   "execution_count": null,
   "metadata": {
    "collapsed": true
   },
   "outputs": [],
   "source": [
    "def sigma_0_MLE(X,Y):\n",
    "    s0 =np.dot((np.ones(Y.shape[0])-np.transpose(Y))*np.transpose(X-mu_0_MLE(X,Y)),(X-mu_0_MLE(X,Y)))\n",
    "    return(s0/(Y.shape[0]-np.sum(Y)))\n",
    "\n",
    "def sigma_1_MLE(X,Y):\n",
    "    s1 = np.dot(np.transpose(Y)*np.transpose(X-mu_1_MLE(X,Y)),(X-mu_1_MLE(X,Y)))\n",
    "    return(s1/np.sum(Y))\n",
    "\n",
    "\n",
    "\n",
    "\n",
    "\n",
    "\n",
    "\n",
    "def c_sigmoid(X,Y):\n",
    "    return(np.dot(np.linalg.inv(sigma_1_MLE(X,Y)),np.asarray(nu_1_MLE(X,Y)))\n",
    "           -np.dot(np.linalg.inv(sigma_0_MLE(X,Y)),np.asarray(nu_0_MLE(X,Y)))\n",
    "           \n",
    "           \n",
    "           \n",
    "           np.asarray(nu_0_MLE(X,Y))))\n",
    "\n",
    "def d_sigmoid(X,Y):\n",
    "    return(np.log(theta_MLE(Y)/(1-theta_MLE(Y))) \n",
    "           -1/2*np.dot(np.dot((np.asarray(nu_1_MLE(X,Y))-np.asarray(nu_0_MLE(X,Y))),np.linalg.inv(sigma_MLE(X,Y)))\n",
    "                ,(np.asarray(nu_0_MLE(X,Y))+np.asarray(nu_1_MLE(X,Y)))))\n",
    "\n",
    "def M_sigmoid(X,Y):\n",
    "    return(np.dot(np.linalg.inv(sigma_MLE(X,Y)),np.asarray(nu_1_MLE(X,Y))-np.asarray(nu_0_MLE(X,Y))))\n",
    "\n"
   ]
  },
  {
   "cell_type": "code",
   "execution_count": null,
   "metadata": {
    "collapsed": true
   },
   "outputs": [],
   "source": []
  },
  {
   "cell_type": "code",
   "execution_count": null,
   "metadata": {
    "collapsed": true
   },
   "outputs": [],
   "source": []
  },
  {
   "cell_type": "code",
   "execution_count": 122,
   "metadata": {
    "collapsed": false
   },
   "outputs": [],
   "source": [
    "#LDA(X_A_train, Y_A_train)"
   ]
  },
  {
   "cell_type": "code",
   "execution_count": null,
   "metadata": {
    "collapsed": false
   },
   "outputs": [],
   "source": [
    "Theta_MLE_A = (1.0/np.shape(A_train)[0])*sum([a[2] for a in A_train])\n",
    "Theta_MLE_B = (1.0/np.shape(B_train)[0])*sum([b[2] for b in B_train])\n",
    "Theta_MLE_C = (1.0/np.shape(C_train)[0])*sum([c[2] for c in C_train])\n",
    "\n",
    "print Theta_MLE_A\n",
    "print Theta_MLE_B\n",
    "print Theta_MLE_C\n",
    "\n",
    "mu_0_MLE_A = np.sum([(1-a[2])*np.array([a[0],a[1]]) for a in A_train],axis = 0)/sum([(1-a[2]) for a in A_train])\n",
    "mu_0_MLE_B = np.sum([(1-b[2])*np.array([b[0],b[1]]) for b in B_train],axis = 0)/sum([(1-b[2]) for b in B_train])\n",
    "mu_0_MLE_C = np.sum([(1-c[2])*np.array([c[0],c[1]]) for c in C_train],axis = 0)/sum([(1-c[2]) for c in C_train])\n",
    "\n",
    "print mu_0_MLE_A\n",
    "print mu_0_MLE_B\n",
    "print mu_0_MLE_C\n",
    "\n",
    "mu_1_MLE_A = np.sum([a[2]*np.array([a[0],a[1]]) for a in A_train],axis = 0)/sum([a[2] for a in A_train])\n",
    "mu_1_MLE_B = np.sum([b[2]*np.array([b[0],b[1]]) for b in B_train],axis = 0)/sum([b[2] for b in B_train])\n",
    "mu_1_MLE_C = np.sum([c[2]*np.array([c[0],c[1]]) for c in C_train],axis = 0)/sum([c[2] for c in C_train])\n",
    "\n",
    "print mu_1_MLE_A\n",
    "print mu_1_MLE_B\n",
    "print mu_1_MLE_C\n",
    "\n",
    "def p_Y1_X(x,theta,mu_0,mu_1,sigma):#x vecteur vertical\n",
    "    return( 1.0/(1.0+((1.0-theta)/(theta))*exp((((mu_0+mu_1)[np.newaxis]).T).dot(sigma).dot(x) - (1.0/2)*((mu_0.T).dot(sigma).dot(mu_0) + (mu_1.T).dot(sigma).dot(mu_1))))\n",
    "    "
   ]
  },
  {
   "cell_type": "code",
   "execution_count": null,
   "metadata": {
    "collapsed": false
   },
   "outputs": [],
   "source": [
    "print A_train[:3]"
   ]
  },
  {
   "cell_type": "code",
   "execution_count": null,
   "metadata": {
    "collapsed": false
   },
   "outputs": [],
   "source": [
    "print [np.array([a[0],a[1]]) for a in A_train][:2]"
   ]
  },
  {
   "cell_type": "code",
   "execution_count": null,
   "metadata": {
    "collapsed": false
   },
   "outputs": [],
   "source": [
    "a = np.array([1,2])\n",
    "b = np.array([[3,4],[5,6]])\n",
    "print np.transpose(a[np.newaxis])*b"
   ]
  },
  {
   "cell_type": "code",
   "execution_count": null,
   "metadata": {
    "collapsed": false
   },
   "outputs": [],
   "source": [
    "#transformer un vecteur ligne en colone\n",
    "vecteur_ligne = np.array([1,2,3])\n",
    "vecteur_colone = np.transpose(vecteur_ligne[np.newaxis])\n",
    "print vecteur_ligne\n",
    "print np.transpose(vecteur_colone).dot(np.array([[1,2,0],[0,1,0],[0,0,1]])).dot(vecteur_colone)\n",
    "\n",
    "print vecteur_colone.T"
   ]
  },
  {
   "cell_type": "code",
   "execution_count": null,
   "metadata": {
    "collapsed": true
   },
   "outputs": [],
   "source": [
    "#logistic regression\n"
   ]
  }
 ],
 "metadata": {
  "kernelspec": {
   "display_name": "Python 3",
   "language": "python",
   "name": "python3"
  },
  "language_info": {
   "codemirror_mode": {
    "name": "ipython",
    "version": 3
   },
   "file_extension": ".py",
   "mimetype": "text/x-python",
   "name": "python",
   "nbconvert_exporter": "python",
   "pygments_lexer": "ipython3",
   "version": "3.5.1"
  }
 },
 "nbformat": 4,
 "nbformat_minor": 2
}
